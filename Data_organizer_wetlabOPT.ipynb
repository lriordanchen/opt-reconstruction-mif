{
 "cells": [
  {
   "cell_type": "markdown",
   "metadata": {},
   "source": [
    "## Data organizer\n",
    "\n",
    "This notebook allows a user to specify a folder containing OPT data with different fluorescence and transmission files and it organizes the files into stacks and outputs them as tiff and hdf5."
   ]
  },
  {
   "cell_type": "code",
   "execution_count": 4,
   "metadata": {
    "scrolled": true
   },
   "outputs": [
    {
     "name": "stdout",
     "output_type": "stream",
     "text": [
      "Collecting package metadata (current_repodata.json): ...working... done\n",
      "Solving environment: ...working... done\n",
      "\n",
      "## Package Plan ##\n",
      "\n",
      "  environment location: C:\\Users\\lchen\\AppData\\Local\\Continuum\\anaconda3\n",
      "\n",
      "  added / updated specs:\n",
      "    - pandas\n",
      "\n",
      "\n",
      "The following packages will be downloaded:\n",
      "\n",
      "    package                    |            build\n",
      "    ---------------------------|-----------------\n",
      "    certifi-2019.6.16          |           py37_1         156 KB\n",
      "    conda-4.7.10               |           py37_0         3.0 MB\n",
      "    pandas-0.25.0              |   py37ha925a31_0         9.8 MB\n",
      "    ------------------------------------------------------------\n",
      "                                           Total:        13.0 MB\n",
      "\n",
      "The following NEW packages will be INSTALLED:\n",
      "\n",
      "  pandas             pkgs/main/win-64::pandas-0.25.0-py37ha925a31_0\n",
      "\n",
      "The following packages will be UPDATED:\n",
      "\n",
      "  certifi                                  2019.6.16-py37_0 --> 2019.6.16-py37_1\n",
      "  conda                                        4.7.5-py37_0 --> 4.7.10-py37_0\n",
      "\n",
      "\n",
      "\n",
      "Downloading and Extracting Packages\n",
      "\n",
      "pandas-0.25.0        | 9.8 MB    |            |   0% \n",
      "pandas-0.25.0        | 9.8 MB    |            |   0% \n",
      "pandas-0.25.0        | 9.8 MB    | 2          |   2% \n",
      "pandas-0.25.0        | 9.8 MB    | 5          |   5% \n",
      "pandas-0.25.0        | 9.8 MB    | #1         |  11% \n",
      "pandas-0.25.0        | 9.8 MB    | ##1        |  21% \n",
      "pandas-0.25.0        | 9.8 MB    | ####1      |  41% \n",
      "pandas-0.25.0        | 9.8 MB    | ######1    |  61% \n",
      "pandas-0.25.0        | 9.8 MB    | ########1  |  81% \n",
      "pandas-0.25.0        | 9.8 MB    | ########## | 100% \n",
      "\n",
      "certifi-2019.6.16    | 156 KB    |            |   0% \n",
      "certifi-2019.6.16    | 156 KB    | ########## | 100% \n",
      "\n",
      "conda-4.7.10         | 3.0 MB    |            |   0% \n",
      "conda-4.7.10         | 3.0 MB    | ########## | 100% \n",
      "Preparing transaction: ...working... done\n",
      "Verifying transaction: ...working... done\n",
      "Executing transaction: ...working... done\n"
     ]
    }
   ],
   "source": [
    "# USE THIS TO INSTALL MISSING PACKAGES\n",
    "import sys\n",
    "!conda install --yes --prefix {sys.prefix} pandas"
   ]
  },
  {
   "cell_type": "code",
   "execution_count": 6,
   "metadata": {},
   "outputs": [],
   "source": [
    "import os\n",
    "import pandas as pd\n",
    "\n",
    "import numpy as np\n",
    "import h5py"
   ]
  },
  {
   "cell_type": "markdown",
   "metadata": {},
   "source": [
    "### User input\n",
    "Set path and indicators that LabView inserts into file names."
   ]
  },
  {
   "cell_type": "code",
   "execution_count": 9,
   "metadata": {},
   "outputs": [],
   "source": [
    "given_path = 'D:\\\\VHIR_july\\AP2'\n",
    "\n",
    "fluor_indicator = 'fluor' # string shared in names of all fluorescent data \n",
    "bkgd_indicator = 'bkgd' # string indicating flat-field transmission background image\n",
    "dark_indicator = 'dark'# string indicating dark-field transmission background image\n",
    "\n",
    "# Based on LabView naming conventions, what user named each dataset, usually either filter or staining\n",
    "filter_start = 'T0_'\n",
    "filter_end = '_View'"
   ]
  },
  {
   "cell_type": "markdown",
   "metadata": {},
   "source": [
    "### Stand-alone code\n",
    "\n",
    "Reads in and identifies files."
   ]
  },
  {
   "cell_type": "code",
   "execution_count": 10,
   "metadata": {},
   "outputs": [],
   "source": [
    "# March through file structure and collect all files\n",
    "file_set = []\n",
    "for path, dirs, files in os.walk(given_path):\n",
    "    for f in files:\n",
    "        file_set.append(path+\"\\\\\"+f)\n",
    "        \n",
    "# Collect only .tif files\n",
    "tiff_pd = pd.DataFrame({\"FileName\":[s for s in file_set if '.tif' in s]})\n",
    "\n",
    "# Identify fluorescence vs transmission\n",
    "tiff_pd['image_type']= ['fluor' if fluor_indicator in s else 'trans' for s in tiff_pd.FileName]\n",
    "\n",
    "# Identify transmission bright-field and dark-field data\n",
    "tiff_pd.loc[(tiff_pd['image_type']=='trans') & \n",
    "            (tiff_pd['FileName'].str.contains(bkgd_indicator)), 'image_type'] = 'trans_bkgd'\n",
    "tiff_pd.loc[(tiff_pd['image_type']=='trans') & \n",
    "            (tiff_pd['FileName'].str.contains(dark_indicator)), 'image_type'] = 'trans_dark'\n",
    "\n",
    "# Get filter name \n",
    "tiff_pd['filter_name'] =  [s[s.find(filter_start)+len(filter_start):s.find(filter_end)] for s in tiff_pd.FileName]\n",
    "tiff_pd.loc[(tiff_pd['image_type']=='trans') , 'filter_name'] = 'trans'\n",
    "tiff_pd.loc[(tiff_pd['image_type']=='trans_bkgd') , 'filter_name'] = 'trans_bkgd'\n",
    "tiff_pd.loc[(tiff_pd['image_type']=='trans_dark') , 'filter_name'] = 'trans_dark'"
   ]
  },
  {
   "cell_type": "markdown",
   "metadata": {},
   "source": [
    "Creates input directory and saves HDF5 files and tiff stacks for reconstruction algorithm.\n",
    "\n",
    "*Future work: Checks pixel-modes in files to ensure transmission, background, and fluorescence files were properly labelled by user - if there is an anomaly, program doesn't create input stacks and asks user to manually create them.*"
   ]
  },
  {
   "cell_type": "code",
   "execution_count": 11,
   "metadata": {},
   "outputs": [
    {
     "name": "stdout",
     "output_type": "stream",
     "text": [
      "Directory  input  already exists\n"
     ]
    }
   ],
   "source": [
    "# Create input and output directories\n",
    "dirInput = 'input'\n",
    " \n",
    "try:\n",
    "    # Creates directory\n",
    "    os.mkdir(given_path+\"\\\\\"+dirInput)\n",
    "    print(\"Directory \" , dirInput ,  \" created \") \n",
    "except FileExistsError:\n",
    "    print(\"Directory \" , dirInput ,  \" already exists\")\n",
    "    \n"
   ]
  },
  {
   "cell_type": "code",
   "execution_count": 12,
   "metadata": {},
   "outputs": [
    {
     "ename": "KeyError",
     "evalue": "'O'",
     "output_type": "error",
     "traceback": [
      "\u001b[1;31m---------------------------------------------------------------------------\u001b[0m",
      "\u001b[1;31mKeyError\u001b[0m                                  Traceback (most recent call last)",
      "\u001b[1;32m<ipython-input-12-ee6ad4e32580>\u001b[0m in \u001b[0;36m<module>\u001b[1;34m\u001b[0m\n\u001b[0;32m     14\u001b[0m \u001b[1;33m\u001b[0m\u001b[0m\n\u001b[0;32m     15\u001b[0m     \u001b[1;31m# Saves tiff stacks\u001b[0m\u001b[1;33m\u001b[0m\u001b[1;33m\u001b[0m\u001b[1;33m\u001b[0m\u001b[0m\n\u001b[1;32m---> 16\u001b[1;33m     \u001b[0mimsave\u001b[0m\u001b[1;33m(\u001b[0m\u001b[0mgiven_path\u001b[0m\u001b[1;33m+\u001b[0m\u001b[1;34m'\\\\input\\\\'\u001b[0m \u001b[1;33m+\u001b[0m\u001b[0mfilter_set\u001b[0m\u001b[1;33m[\u001b[0m\u001b[0mfilt\u001b[0m\u001b[1;33m]\u001b[0m\u001b[1;33m+\u001b[0m\u001b[1;34m'.tif'\u001b[0m\u001b[1;33m,\u001b[0m \u001b[0mstack\u001b[0m\u001b[1;33m)\u001b[0m\u001b[1;33m\u001b[0m\u001b[1;33m\u001b[0m\u001b[0m\n\u001b[0m\u001b[0;32m     17\u001b[0m \u001b[1;33m\u001b[0m\u001b[0m\n\u001b[0;32m     18\u001b[0m     \u001b[1;31m# Saves stacks in separate hdf5\u001b[0m\u001b[1;33m\u001b[0m\u001b[1;33m\u001b[0m\u001b[1;33m\u001b[0m\u001b[0m\n",
      "\u001b[1;32m~\\AppData\\Local\\Continuum\\anaconda3\\lib\\site-packages\\tifffile\\tifffile.py\u001b[0m in \u001b[0;36mimsave\u001b[1;34m(file, data, shape, dtype, bigsize, **kwargs)\u001b[0m\n\u001b[0;32m    514\u001b[0m \u001b[1;33m\u001b[0m\u001b[0m\n\u001b[0;32m    515\u001b[0m     \u001b[1;32mwith\u001b[0m \u001b[0mTiffWriter\u001b[0m\u001b[1;33m(\u001b[0m\u001b[0mfile\u001b[0m\u001b[1;33m,\u001b[0m \u001b[1;33m**\u001b[0m\u001b[0mtifargs\u001b[0m\u001b[1;33m)\u001b[0m \u001b[1;32mas\u001b[0m \u001b[0mtif\u001b[0m\u001b[1;33m:\u001b[0m\u001b[1;33m\u001b[0m\u001b[1;33m\u001b[0m\u001b[0m\n\u001b[1;32m--> 516\u001b[1;33m         \u001b[1;32mreturn\u001b[0m \u001b[0mtif\u001b[0m\u001b[1;33m.\u001b[0m\u001b[0msave\u001b[0m\u001b[1;33m(\u001b[0m\u001b[0mdata\u001b[0m\u001b[1;33m,\u001b[0m \u001b[0mshape\u001b[0m\u001b[1;33m,\u001b[0m \u001b[0mdtype\u001b[0m\u001b[1;33m,\u001b[0m \u001b[1;33m**\u001b[0m\u001b[0mkwargs\u001b[0m\u001b[1;33m)\u001b[0m\u001b[1;33m\u001b[0m\u001b[1;33m\u001b[0m\u001b[0m\n\u001b[0m\u001b[0;32m    517\u001b[0m \u001b[1;33m\u001b[0m\u001b[0m\n\u001b[0;32m    518\u001b[0m \u001b[1;33m\u001b[0m\u001b[0m\n",
      "\u001b[1;32m~\\AppData\\Local\\Continuum\\anaconda3\\lib\\site-packages\\tifffile\\tifffile.py\u001b[0m in \u001b[0;36msave\u001b[1;34m(self, data, shape, dtype, returnoffset, photometric, planarconfig, tile, contiguous, align, truncate, compress, rowsperstrip, predictor, colormap, description, datetime, resolution, software, metadata, ijmetadata, extratags)\u001b[0m\n\u001b[0;32m   1289\u001b[0m         \u001b[0maddtag\u001b[0m\u001b[1;33m(\u001b[0m\u001b[1;34m'NewSubfileType'\u001b[0m\u001b[1;33m,\u001b[0m \u001b[1;34m'I'\u001b[0m\u001b[1;33m,\u001b[0m \u001b[1;36m1\u001b[0m\u001b[1;33m,\u001b[0m \u001b[1;36m0\u001b[0m\u001b[1;33m)\u001b[0m\u001b[1;33m\u001b[0m\u001b[1;33m\u001b[0m\u001b[0m\n\u001b[0;32m   1290\u001b[0m         \u001b[1;32mif\u001b[0m \u001b[1;32mnot\u001b[0m \u001b[0mbilevel\u001b[0m\u001b[1;33m:\u001b[0m\u001b[1;33m\u001b[0m\u001b[1;33m\u001b[0m\u001b[0m\n\u001b[1;32m-> 1291\u001b[1;33m             \u001b[0msampleformat\u001b[0m \u001b[1;33m=\u001b[0m \u001b[1;33m{\u001b[0m\u001b[1;34m'u'\u001b[0m\u001b[1;33m:\u001b[0m \u001b[1;36m1\u001b[0m\u001b[1;33m,\u001b[0m \u001b[1;34m'i'\u001b[0m\u001b[1;33m:\u001b[0m \u001b[1;36m2\u001b[0m\u001b[1;33m,\u001b[0m \u001b[1;34m'f'\u001b[0m\u001b[1;33m:\u001b[0m \u001b[1;36m3\u001b[0m\u001b[1;33m,\u001b[0m \u001b[1;34m'c'\u001b[0m\u001b[1;33m:\u001b[0m \u001b[1;36m6\u001b[0m\u001b[1;33m}\u001b[0m\u001b[1;33m[\u001b[0m\u001b[0mdatadtype\u001b[0m\u001b[1;33m.\u001b[0m\u001b[0mkind\u001b[0m\u001b[1;33m]\u001b[0m\u001b[1;33m\u001b[0m\u001b[1;33m\u001b[0m\u001b[0m\n\u001b[0m\u001b[0;32m   1292\u001b[0m             addtag('SampleFormat', 'H', samplesperpixel,\n\u001b[0;32m   1293\u001b[0m                    (sampleformat,) * samplesperpixel)\n",
      "\u001b[1;31mKeyError\u001b[0m: 'O'"
     ]
    }
   ],
   "source": [
    "# Output data\n",
    "import matplotlib.pyplot as plt\n",
    "from tifffile import imsave\n",
    "\n",
    "filter_set = list(set(tiff_pd['filter_name']))\n",
    "\n",
    "for filt in range(len(filter_set)):\n",
    "    # Creates stack based on filter/image-type\n",
    "    stack_of_names = []\n",
    "    for ix in range(tiff_pd.shape[0]):\n",
    "        if tiff_pd['filter_name'].loc[ix] == filter_set[filt]:\n",
    "            stack_of_names.append(tiff_pd['FileName'].loc[ix])\n",
    "    stack = np.array([plt.imread(c) for c in  stack_of_names])\n",
    "    \n",
    "    # Saves tiff stacks\n",
    "    imsave(given_path+'\\\\input\\\\' +filter_set[filt]+'.tif', stack)\n",
    "    \n",
    "    # Saves stacks in separate hdf5\n",
    "    file_output_h5 = given_path+'\\\\input\\\\' +filter_set[filt]+'.h5'\n",
    "    indiv = h5py.File(file_output_h5, 'w')\n",
    "    indiv['data']  = stack\n",
    "    indiv.close()\n",
    "''' \n",
    "    # Saves to single hdf5 with tree structure\n",
    "    full_output_h5 = given_path+r'\\\\input\\\\all_data.h5'\n",
    "    if os.path.isfile(full_output_h5)==True:\n",
    "        os.remove(full_output_h5)\n",
    "    full =  h5py.File(full_output_h5, 'a')\n",
    "    if 'trans' in filter_set[filt]:\n",
    "        full.create_dataset('\\\\trans\\\\'+filter_set[filt], data=stack)   \n",
    "    else:\n",
    "        full.create_dataset('\\\\fluor\\\\'+filter_set[filt], data=stack)  \n",
    "    full.close()\n",
    "'''   \n",
    "print('Complete.')"
   ]
  },
  {
   "cell_type": "code",
   "execution_count": null,
   "metadata": {},
   "outputs": [],
   "source": []
  }
 ],
 "metadata": {
  "kernelspec": {
   "display_name": "Python 3",
   "language": "python",
   "name": "python3"
  },
  "language_info": {
   "codemirror_mode": {
    "name": "ipython",
    "version": 3
   },
   "file_extension": ".py",
   "mimetype": "text/x-python",
   "name": "python",
   "nbconvert_exporter": "python",
   "pygments_lexer": "ipython3",
   "version": "3.7.3"
  }
 },
 "nbformat": 4,
 "nbformat_minor": 2
}
